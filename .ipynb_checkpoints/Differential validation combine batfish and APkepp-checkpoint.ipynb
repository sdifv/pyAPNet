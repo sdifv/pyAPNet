{
 "cells": [
  {
   "cell_type": "code",
   "execution_count": 7,
   "metadata": {},
   "outputs": [],
   "source": [
    "# Import packages\n",
    "%run startup.py\n",
    "# Load all questions\n",
    "load_questions()"
   ]
  },
  {
   "cell_type": "code",
   "execution_count": 8,
   "metadata": {},
   "outputs": [],
   "source": [
    "# initialize network and snapshot\n",
    "NETWORK_NAME = \"forwarding-change-validation\"\n",
    "BASE_NAME = \"base\"\n",
    "BASE_PATH = \"networks/forwarding-change-validation/base\"\n",
    "\n",
    "bf_set_network(NETWORK_NAME)\n",
    "# bf_init_snapshot(BASE_PATH, name=BASE_NAME, overwrite=True)\n",
    "bf_set_snapshot(name = BASE_NAME)"
   ]
  },
  {
   "cell_type": "code",
   "execution_count": 3,
   "metadata": {},
   "outputs": [],
   "source": [
    "df = bfq.routes().answer(snapshot=BASE_NAME).frame()"
   ]
  },
  {
   "cell_type": "code",
   "execution_count": 4,
   "metadata": {},
   "outputs": [
    {
     "data": {
      "text/plain": [
       "'change'"
      ]
     },
     "execution_count": 4,
     "metadata": {},
     "output_type": "execute_result"
    }
   ],
   "source": [
    "CHANGE_NAME = \"change\"\n",
    "CHANGE_PATH = \"networks/forwarding-change-validation/change1\"\n",
    "bf_set_snapshot(name=CHANGE_NAME)\n",
    "# bf_init_snapshot(CHANGE_PATH,name = CHANGE_NAME, overwrite=True)"
   ]
  },
  {
   "cell_type": "code",
   "execution_count": 5,
   "metadata": {},
   "outputs": [],
   "source": [
    "# invoke bfq.routes to push batfish parse config files and compute data plane\n",
    "change_routes = bfq.routes().answer(snapshot = CHANGE_NAME).frame()"
   ]
  },
  {
   "cell_type": "code",
   "execution_count": 26,
   "metadata": {},
   "outputs": [
    {
     "data": {
      "text/html": [
       "<style  type=\"text/css\" >\n",
       "    #T_pybfstylerow0_col0 {\n",
       "            text-align:  left;\n",
       "            vertical-align:  top;\n",
       "        }    #T_pybfstylerow0_col1 {\n",
       "            text-align:  left;\n",
       "            vertical-align:  top;\n",
       "        }    #T_pybfstylerow0_col2 {\n",
       "            text-align:  left;\n",
       "            vertical-align:  top;\n",
       "        }</style><table id=\"T_pybfstyle\"  class=\"tex2jax_ignore\"><thead>    <tr>        <th class=\"blank level0\" ></th>        <th class=\"col_heading level0 col0\" >Flow</th>        <th class=\"col_heading level0 col1\" >Traces</th>        <th class=\"col_heading level0 col2\" >TraceCount</th>    </tr></thead><tbody>\n",
       "                <tr>\n",
       "                        <th id=\"T_pybfstylelevel0_row0\" class=\"row_heading level0 row0\" >0</th>\n",
       "                        <td id=\"T_pybfstylerow0_col0\" class=\"data row0 col0\" >Start Location: border2<br>Src IP: 2.1.1.2<br>Dst IP: 10.12.11.2<br>IP Protocol: ICMP</td>\n",
       "                        <td id=\"T_pybfstylerow0_col1\" class=\"data row0 col1\" ><span style=\"color:#7c020e; text-weight:bold;\">LOOP</span><br><strong>1</strong>. node: border2<br>&nbsp;&nbsp;ORIGINATED(default)<br>&nbsp;&nbsp;FORWARDED(Routes: ospfE2 [Network: 10.12.11.0/24, Next Hop IP:2.12.22.2])<br>&nbsp;&nbsp;TRANSMITTED(GigabitEthernet1/0)<br><strong>2</strong>. node: core2<br>&nbsp;&nbsp;RECEIVED(GigabitEthernet0/0)<br>&nbsp;&nbsp;FORWARDED(Routes: static [Network: 10.12.11.2/32, Next Hop IP:2.23.22.3])<br>&nbsp;&nbsp;TRANSMITTED(GigabitEthernet2/0)<br><strong>3</strong>. node: spine2<br>&nbsp;&nbsp;RECEIVED(GigabitEthernet0/0)<br>&nbsp;&nbsp;FORWARDED(Routes: static [Network: 10.12.11.2/32, Next Hop IP:2.34.201.4])<br>&nbsp;&nbsp;TRANSMITTED(GigabitEthernet2/0)<br><strong>4</strong>. node: leaf1<br>&nbsp;&nbsp;RECEIVED(GigabitEthernet1/0)<br>&nbsp;&nbsp;PERMITTED(RESTRICT_NETWORK_TRAFFIC_IN (INGRESS_FILTER))<br>&nbsp;&nbsp;FORWARDED(Routes: static [Network: 10.12.11.2/32, Next Hop IP:2.34.101.3])<br>&nbsp;&nbsp;TRANSMITTED(GigabitEthernet0/0)<br><strong>5</strong>. node: spine1<br>&nbsp;&nbsp;RECEIVED(GigabitEthernet2/0)<br>&nbsp;&nbsp;FORWARDED(Routes: static [Network: 10.12.11.2/32, Next Hop IP:2.34.201.4])<br>&nbsp;&nbsp;TRANSMITTED(GigabitEthernet0/0)<br><strong>6</strong>. node: core1<br>&nbsp;&nbsp;RECEIVED(GigabitEthernet2/0)<br>&nbsp;&nbsp;FORWARDED(Routes: ospfE2 [Network: 10.12.11.0/24, Next Hop IP:2.12.21.1])<br>&nbsp;&nbsp;TRANSMITTED(GigabitEthernet1/0)<br><strong>7</strong>. node: border2<br>&nbsp;&nbsp;RECEIVED(GigabitEthernet2/0)</td>\n",
       "                        <td id=\"T_pybfstylerow0_col2\" class=\"data row0 col2\" >1</td>\n",
       "            </tr>\n",
       "    </tbody></table>"
      ],
      "text/plain": [
       "                                       Flow  \\\n",
       "0  start=border2 [2.1.1.2->10.12.11.2 ICMP]   \n",
       "\n",
       "                                                                                                                                                                                                                                                                                                                                                                                                                                                                                                                                                                                                                                                                                                                                                                                                                                                                                                                                                          Traces  \\\n",
       "0  [((ORIGINATED(default), FORWARDED(Routes: ospfE2 [Network: 10.12.11.0/24, Next Hop IP:2.12.22.2]), TRANSMITTED(GigabitEthernet1/0)), (RECEIVED(GigabitEthernet0/0), FORWARDED(Routes: static [Network: 10.12.11.2/32, Next Hop IP:2.23.22.3]), TRANSMITTED(GigabitEthernet2/0)), (RECEIVED(GigabitEthernet0/0), FORWARDED(Routes: static [Network: 10.12.11.2/32, Next Hop IP:2.34.201.4]), TRANSMITTED(GigabitEthernet2/0)), (RECEIVED(GigabitEthernet1/0), PERMITTED(RESTRICT_NETWORK_TRAFFIC_IN (INGRESS_FILTER)), FORWARDED(Routes: static [Network: 10.12.11.2/32, Next Hop IP:2.34.101.3]), TRANSMITTED(GigabitEthernet0/0)), (RECEIVED(GigabitEthernet2/0), FORWARDED(Routes: static [Network: 10.12.11.2/32, Next Hop IP:2.34.201.4]), TRANSMITTED(GigabitEthernet0/0)), (RECEIVED(GigabitEthernet2/0), FORWARDED(Routes: ospfE2 [Network: 10.12.11.0/24, Next Hop IP:2.12.21.1]), TRANSMITTED(GigabitEthernet1/0)), (RECEIVED(GigabitEthernet2/0)))]   \n",
       "\n",
       "  TraceCount  \n",
       "0  1          "
      ]
     },
     "metadata": {},
     "output_type": "display_data"
    }
   ],
   "source": [
    "result = bfq.detectLoops().answer(snapshot=CHANGE_NAME).frame()\n",
    "show(result)"
   ]
  },
  {
   "cell_type": "code",
   "execution_count": 1,
   "metadata": {},
   "outputs": [],
   "source": [
    "from client.apkeep import APKeep\n",
    "import pandas as pd\n",
    "%run startup.py\n",
    "from IPython.display import display,HTML"
   ]
  },
  {
   "cell_type": "code",
   "execution_count": 2,
   "metadata": {},
   "outputs": [],
   "source": [
    "# Initialize an apkeep model based on the original configuration\n",
    "ap = APKeep('forwarding-change-validation','base')"
   ]
  },
  {
   "cell_type": "code",
   "execution_count": 3,
   "metadata": {},
   "outputs": [
    {
     "name": "stdout",
     "output_type": "stream",
     "text": [
      "loops : 0\n"
     ]
    }
   ],
   "source": [
    "ans1 = ap.base_check()"
   ]
  },
  {
   "cell_type": "code",
   "execution_count": 4,
   "metadata": {},
   "outputs": [
    {
     "name": "stdout",
     "output_type": "stream",
     "text": [
      "loops : 1\n"
     ]
    }
   ],
   "source": [
    "ans2 = ap.update_check('change')"
   ]
  },
  {
   "cell_type": "code",
   "execution_count": 6,
   "metadata": {},
   "outputs": [
    {
     "data": {
      "text/html": [
       "<style  type=\"text/css\" >\n",
       "    #T_04ab2b7c_a742_11ea_844c_1c1bb5c31b58row0_col0 {\n",
       "            text-align:  left;\n",
       "        }    #T_04ab2b7c_a742_11ea_844c_1c1bb5c31b58row0_col1 {\n",
       "            text-align:  left;\n",
       "        }    #T_04ab2b7c_a742_11ea_844c_1c1bb5c31b58row0_col2 {\n",
       "            text-align:  left;\n",
       "        }</style><table id=\"T_04ab2b7c_a742_11ea_844c_1c1bb5c31b58\"  class=\"tex2jax_ignore\"><thead>    <tr>        <th class=\"blank level0\" ></th>        <th class=\"col_heading level0 col0\" >aps_info</th>        <th class=\"col_heading level0 col1\" >loop_path</th>        <th class=\"col_heading level0 col2\" >loop_num</th>    </tr></thead><tbody>\n",
       "                <tr>\n",
       "                        <th id=\"T_04ab2b7c_a742_11ea_844c_1c1bb5c31b58level0_row0\" class=\"row_heading level0 row0\" >0</th>\n",
       "                        <td id=\"T_04ab2b7c_a742_11ea_844c_1c1bb5c31b58row0_col0\" class=\"data row0 col0\" >3862 : 10.12.11.2/32\n",
       "3714 : 10.12.11.2/32</td>\n",
       "                        <td id=\"T_04ab2b7c_a742_11ea_844c_1c1bb5c31b58row0_col1\" class=\"data row0 col1\" ><b>1</b>.core2</br>RECEIVED(default)</br>FORWARDED(Routes:(Prefix:10.12.11.2/32,Next Hop Interface:GigabitEthernet2/0))</br>TRANSMITTED(GigabitEthernet2/0)</br></br><b>2</b>.spine2</br>RECEIVED(GigabitEthernet0/0)</br>FORWARDED(Routes:(Prefix:10.12.11.2/32,Next Hop Interface:GigabitEthernet2/0))</br>TRANSMITTED(GigabitEthernet2/0)</br></br><b>3</b>.leaf1</br>RECEIVED(GigabitEthernet1/0)</br>FORWARDED(Routes:(Prefix:10.12.11.2/32,Next Hop Interface:GigabitEthernet0/0))</br>TRANSMITTED(GigabitEthernet0/0)</br></br><b>4</b>.spine1</br>RECEIVED(GigabitEthernet2/0)</br>FORWARDED(Routes:(Prefix:10.12.11.0/24,Next Hop Interface:GigabitEthernet1/0))</br>TRANSMITTED(GigabitEthernet1/0)</br></br><b>5</b>.core2</br>RECEIVED(GigabitEthernet3/0)</br>FORWARDED(Routes:(Prefix:10.12.11.2/32,Next Hop Interface:GigabitEthernet2/0))</br>TRANSMITTED(GigabitEthernet2/0)</br></td>\n",
       "                        <td id=\"T_04ab2b7c_a742_11ea_844c_1c1bb5c31b58row0_col2\" class=\"data row0 col2\" >1</td>\n",
       "            </tr>\n",
       "    </tbody></table>"
      ],
      "text/plain": [
       "<IPython.core.display.HTML object>"
      ]
     },
     "metadata": {},
     "output_type": "display_data"
    }
   ],
   "source": [
    "ans2.loops()"
   ]
  }
 ],
 "metadata": {
  "kernelspec": {
   "display_name": "Python 3",
   "language": "python",
   "name": "python3"
  },
  "language_info": {
   "codemirror_mode": {
    "name": "ipython",
    "version": 3
   },
   "file_extension": ".py",
   "mimetype": "text/x-python",
   "name": "python",
   "nbconvert_exporter": "python",
   "pygments_lexer": "ipython3",
   "version": "3.6.9"
  }
 },
 "nbformat": 4,
 "nbformat_minor": 2
}
