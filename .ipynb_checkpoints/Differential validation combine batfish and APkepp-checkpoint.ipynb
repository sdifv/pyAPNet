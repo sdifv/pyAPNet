{
 "cells": [
  {
   "cell_type": "code",
   "execution_count": 1,
   "metadata": {},
   "outputs": [],
   "source": [
    "# Import packages\n",
    "from Diff import Diff\n",
    "%run startup.py\n",
    "# Load all questions\n",
    "load_questions()"
   ]
  },
  {
   "cell_type": "code",
   "execution_count": 2,
   "metadata": {},
   "outputs": [
    {
     "data": {
      "text/plain": [
       "'base'"
      ]
     },
     "execution_count": 2,
     "metadata": {},
     "output_type": "execute_result"
    }
   ],
   "source": [
    "# initialize network and snapshot\n",
    "NETWORK_NAME = \"forwarding-change-validation\"\n",
    "BASE_NAME = \"base\"\n",
    "BASE_PATH = \"networks/forwarding-change-validation/base\"\n",
    "\n",
    "bf_set_network(NETWORK_NAME)\n",
    "# bf_init_snapshot(BASE_PATH, name=BASE_NAME, overwrite=True)\n",
    "bf_set_snapshot(name = BASE_NAME)"
   ]
  },
  {
   "cell_type": "code",
   "execution_count": 3,
   "metadata": {},
   "outputs": [],
   "source": [
    "df = bfq.routes().answer(snapshot=BASE_NAME).frame()"
   ]
  },
  {
   "cell_type": "code",
   "execution_count": 6,
   "metadata": {},
   "outputs": [
    {
     "data": {
      "text/html": [
       "<div>\n",
       "<style scoped>\n",
       "    .dataframe tbody tr th:only-of-type {\n",
       "        vertical-align: middle;\n",
       "    }\n",
       "\n",
       "    .dataframe tbody tr th {\n",
       "        vertical-align: top;\n",
       "    }\n",
       "\n",
       "    .dataframe thead th {\n",
       "        text-align: right;\n",
       "    }\n",
       "</style>\n",
       "<table border=\"1\" class=\"dataframe tex2jax_ignore\">\n",
       "  <thead>\n",
       "    <tr style=\"text-align: right;\">\n",
       "      <th></th>\n",
       "      <th>Node</th>\n",
       "      <th>VRF</th>\n",
       "      <th>Network</th>\n",
       "      <th>Next_Hop</th>\n",
       "      <th>Next_Hop_IP</th>\n",
       "      <th>Next_Hop_Interface</th>\n",
       "      <th>Protocol</th>\n",
       "      <th>Metric</th>\n",
       "      <th>Admin_Distance</th>\n",
       "      <th>Tag</th>\n",
       "    </tr>\n",
       "  </thead>\n",
       "  <tbody>\n",
       "    <tr>\n",
       "      <th>1</th>\n",
       "      <td>border1</td>\n",
       "      <td>default</td>\n",
       "      <td>10.12.11.2/32</td>\n",
       "      <td>None</td>\n",
       "      <td>AUTO/NONE(-1l)</td>\n",
       "      <td>GigabitEthernet0/0</td>\n",
       "      <td>local</td>\n",
       "      <td>0</td>\n",
       "      <td>0</td>\n",
       "      <td>None</td>\n",
       "    </tr>\n",
       "    <tr>\n",
       "      <th>127</th>\n",
       "      <td>border1</td>\n",
       "      <td>default</td>\n",
       "      <td>2.12.11.1/32</td>\n",
       "      <td>None</td>\n",
       "      <td>AUTO/NONE(-1l)</td>\n",
       "      <td>GigabitEthernet1/0</td>\n",
       "      <td>local</td>\n",
       "      <td>0</td>\n",
       "      <td>0</td>\n",
       "      <td>None</td>\n",
       "    </tr>\n",
       "    <tr>\n",
       "      <th>154</th>\n",
       "      <td>border1</td>\n",
       "      <td>default</td>\n",
       "      <td>2.12.12.1/32</td>\n",
       "      <td>None</td>\n",
       "      <td>AUTO/NONE(-1l)</td>\n",
       "      <td>GigabitEthernet2/0</td>\n",
       "      <td>local</td>\n",
       "      <td>0</td>\n",
       "      <td>0</td>\n",
       "      <td>None</td>\n",
       "    </tr>\n",
       "  </tbody>\n",
       "</table>\n",
       "</div>"
      ],
      "text/plain": [
       "        Node      VRF        Network Next_Hop     Next_Hop_IP  \\\n",
       "1    border1  default  10.12.11.2/32  None     AUTO/NONE(-1l)   \n",
       "127  border1  default  2.12.11.1/32   None     AUTO/NONE(-1l)   \n",
       "154  border1  default  2.12.12.1/32   None     AUTO/NONE(-1l)   \n",
       "\n",
       "     Next_Hop_Interface Protocol Metric Admin_Distance   Tag  \n",
       "1    GigabitEthernet0/0  local    0      0              None  \n",
       "127  GigabitEthernet1/0  local    0      0              None  \n",
       "154  GigabitEthernet2/0  local    0      0              None  "
      ]
     },
     "execution_count": 6,
     "metadata": {},
     "output_type": "execute_result"
    }
   ],
   "source": [
    "df[(df['Node']=='border1')&(df['Protocol']=='local')]"
   ]
  },
  {
   "cell_type": "code",
   "execution_count": 6,
   "metadata": {},
   "outputs": [
    {
     "data": {
      "text/html": [
       "<div>\n",
       "<style scoped>\n",
       "    .dataframe tbody tr th:only-of-type {\n",
       "        vertical-align: middle;\n",
       "    }\n",
       "\n",
       "    .dataframe tbody tr th {\n",
       "        vertical-align: top;\n",
       "    }\n",
       "\n",
       "    .dataframe thead th {\n",
       "        text-align: right;\n",
       "    }\n",
       "</style>\n",
       "<table border=\"1\" class=\"dataframe tex2jax_ignore\">\n",
       "  <thead>\n",
       "    <tr style=\"text-align: right;\">\n",
       "      <th></th>\n",
       "      <th>Node</th>\n",
       "      <th>VRF</th>\n",
       "      <th>Network</th>\n",
       "      <th>Next_Hop</th>\n",
       "      <th>Next_Hop_IP</th>\n",
       "      <th>Next_Hop_Interface</th>\n",
       "      <th>Protocol</th>\n",
       "      <th>Metric</th>\n",
       "      <th>Admin_Distance</th>\n",
       "      <th>Tag</th>\n",
       "    </tr>\n",
       "  </thead>\n",
       "  <tbody>\n",
       "    <tr>\n",
       "      <th>21</th>\n",
       "      <td>border1</td>\n",
       "      <td>default</td>\n",
       "      <td>2.1.1.1/32</td>\n",
       "      <td>None</td>\n",
       "      <td>AUTO/NONE(-1l)</td>\n",
       "      <td>Loopback0</td>\n",
       "      <td>connected</td>\n",
       "      <td>0</td>\n",
       "      <td>0</td>\n",
       "      <td>None</td>\n",
       "    </tr>\n",
       "  </tbody>\n",
       "</table>\n",
       "</div>"
      ],
      "text/plain": [
       "       Node      VRF     Network Next_Hop     Next_Hop_IP Next_Hop_Interface  \\\n",
       "21  border1  default  2.1.1.1/32  None     AUTO/NONE(-1l)  Loopback0           \n",
       "\n",
       "     Protocol Metric Admin_Distance   Tag  \n",
       "21  connected  0      0              None  "
      ]
     },
     "execution_count": 6,
     "metadata": {},
     "output_type": "execute_result"
    }
   ],
   "source": [
    "df[(df['Network']=='2.1.1.1/32')&(df['Protocol']=='connected')]"
   ]
  },
  {
   "cell_type": "code",
   "execution_count": 24,
   "metadata": {},
   "outputs": [
    {
     "data": {
      "text/html": [
       "<div>\n",
       "<style scoped>\n",
       "    .dataframe tbody tr th:only-of-type {\n",
       "        vertical-align: middle;\n",
       "    }\n",
       "\n",
       "    .dataframe tbody tr th {\n",
       "        vertical-align: top;\n",
       "    }\n",
       "\n",
       "    .dataframe thead th {\n",
       "        text-align: right;\n",
       "    }\n",
       "</style>\n",
       "<table border=\"1\" class=\"dataframe tex2jax_ignore\">\n",
       "  <thead>\n",
       "    <tr style=\"text-align: right;\">\n",
       "      <th></th>\n",
       "      <th>Flow</th>\n",
       "      <th>Traces</th>\n",
       "      <th>TraceCount</th>\n",
       "    </tr>\n",
       "  </thead>\n",
       "  <tbody>\n",
       "  </tbody>\n",
       "</table>\n",
       "</div>"
      ],
      "text/plain": [
       "Empty DataFrame\n",
       "Columns: [Flow, Traces, TraceCount]\n",
       "Index: []"
      ]
     },
     "metadata": {},
     "output_type": "display_data"
    }
   ],
   "source": [
    "result = bfq.detectLoops().answer(snapshot=BASE_NAME).frame()\n",
    "show(result)"
   ]
  },
  {
   "cell_type": "code",
   "execution_count": 5,
   "metadata": {},
   "outputs": [],
   "source": [
    "# tr_frame = bfq.traceroute(startLocation=\"border1\", headers=HeaderConstraints(dstIps=\"spine2\")).answer().frame()\n",
    "# Display results using customizations to handle large string values\n",
    "# show(tr_frame)"
   ]
  },
  {
   "cell_type": "code",
   "execution_count": 6,
   "metadata": {},
   "outputs": [],
   "source": [
    "# invoke bfq.routes to push batfish parse config files and compute data plane\n",
    "# base_routes = bfq.routes().answer(snapshot = BASE_NAME).frame()\n",
    "# connected_df = base_routes[(base_routes[\"Protocol\"]==\"connected\")][[\"Node\",\"Network\",\"Next_Hop_Interface\"]]\n",
    "# grouped_df = connected_df.groupby(connected_df[\"Network\"])\n",
    "# for network,group_data in grouped_df:\n",
    "#     if(group_data.Node.count()==1):\n",
    "#         continue)\n",
    "#     node1 = group_data.iloc[0,0]\n",
    "#     intf1 = group_data.iloc[0,2]\n",
    "#     node2 = group_data.iloc[1,0]\n",
    "#     intf2 = group_data.iloc[1,2]\n",
    "\n",
    "#     line = \"{:15} {:25} {:15} {:25}\".format(node1,intf1,node2,intf2)\n",
    "#     print(line)"
   ]
  },
  {
   "cell_type": "code",
   "execution_count": 4,
   "metadata": {},
   "outputs": [
    {
     "data": {
      "text/plain": [
       "'change'"
      ]
     },
     "execution_count": 4,
     "metadata": {},
     "output_type": "execute_result"
    }
   ],
   "source": [
    "CHANGE_NAME = \"change\"\n",
    "CHANGE_PATH = \"networks/forwarding-change-validation/change1\"\n",
    "bf_set_snapshot(name=CHANGE_NAME)\n",
    "# bf_init_snapshot(CHANGE_PATH,name = CHANGE_NAME, overwrite=True)"
   ]
  },
  {
   "cell_type": "code",
   "execution_count": 5,
   "metadata": {},
   "outputs": [],
   "source": [
    "# invoke bfq.routes to push batfish parse config files and compute data plane\n",
    "change_routes = bfq.routes().answer(snapshot = CHANGE_NAME).frame()"
   ]
  },
  {
   "cell_type": "code",
   "execution_count": 26,
   "metadata": {},
   "outputs": [
    {
     "data": {
      "text/html": [
       "<style  type=\"text/css\" >\n",
       "    #T_pybfstylerow0_col0 {\n",
       "            text-align:  left;\n",
       "            vertical-align:  top;\n",
       "        }    #T_pybfstylerow0_col1 {\n",
       "            text-align:  left;\n",
       "            vertical-align:  top;\n",
       "        }    #T_pybfstylerow0_col2 {\n",
       "            text-align:  left;\n",
       "            vertical-align:  top;\n",
       "        }</style><table id=\"T_pybfstyle\"  class=\"tex2jax_ignore\"><thead>    <tr>        <th class=\"blank level0\" ></th>        <th class=\"col_heading level0 col0\" >Flow</th>        <th class=\"col_heading level0 col1\" >Traces</th>        <th class=\"col_heading level0 col2\" >TraceCount</th>    </tr></thead><tbody>\n",
       "                <tr>\n",
       "                        <th id=\"T_pybfstylelevel0_row0\" class=\"row_heading level0 row0\" >0</th>\n",
       "                        <td id=\"T_pybfstylerow0_col0\" class=\"data row0 col0\" >Start Location: border2<br>Src IP: 2.1.1.2<br>Dst IP: 10.12.11.2<br>IP Protocol: ICMP</td>\n",
       "                        <td id=\"T_pybfstylerow0_col1\" class=\"data row0 col1\" ><span style=\"color:#7c020e; text-weight:bold;\">LOOP</span><br><strong>1</strong>. node: border2<br>&nbsp;&nbsp;ORIGINATED(default)<br>&nbsp;&nbsp;FORWARDED(Routes: ospfE2 [Network: 10.12.11.0/24, Next Hop IP:2.12.22.2])<br>&nbsp;&nbsp;TRANSMITTED(GigabitEthernet1/0)<br><strong>2</strong>. node: core2<br>&nbsp;&nbsp;RECEIVED(GigabitEthernet0/0)<br>&nbsp;&nbsp;FORWARDED(Routes: static [Network: 10.12.11.2/32, Next Hop IP:2.23.22.3])<br>&nbsp;&nbsp;TRANSMITTED(GigabitEthernet2/0)<br><strong>3</strong>. node: spine2<br>&nbsp;&nbsp;RECEIVED(GigabitEthernet0/0)<br>&nbsp;&nbsp;FORWARDED(Routes: static [Network: 10.12.11.2/32, Next Hop IP:2.34.201.4])<br>&nbsp;&nbsp;TRANSMITTED(GigabitEthernet2/0)<br><strong>4</strong>. node: leaf1<br>&nbsp;&nbsp;RECEIVED(GigabitEthernet1/0)<br>&nbsp;&nbsp;PERMITTED(RESTRICT_NETWORK_TRAFFIC_IN (INGRESS_FILTER))<br>&nbsp;&nbsp;FORWARDED(Routes: static [Network: 10.12.11.2/32, Next Hop IP:2.34.101.3])<br>&nbsp;&nbsp;TRANSMITTED(GigabitEthernet0/0)<br><strong>5</strong>. node: spine1<br>&nbsp;&nbsp;RECEIVED(GigabitEthernet2/0)<br>&nbsp;&nbsp;FORWARDED(Routes: static [Network: 10.12.11.2/32, Next Hop IP:2.34.201.4])<br>&nbsp;&nbsp;TRANSMITTED(GigabitEthernet0/0)<br><strong>6</strong>. node: core1<br>&nbsp;&nbsp;RECEIVED(GigabitEthernet2/0)<br>&nbsp;&nbsp;FORWARDED(Routes: ospfE2 [Network: 10.12.11.0/24, Next Hop IP:2.12.21.1])<br>&nbsp;&nbsp;TRANSMITTED(GigabitEthernet1/0)<br><strong>7</strong>. node: border2<br>&nbsp;&nbsp;RECEIVED(GigabitEthernet2/0)</td>\n",
       "                        <td id=\"T_pybfstylerow0_col2\" class=\"data row0 col2\" >1</td>\n",
       "            </tr>\n",
       "    </tbody></table>"
      ],
      "text/plain": [
       "                                       Flow  \\\n",
       "0  start=border2 [2.1.1.2->10.12.11.2 ICMP]   \n",
       "\n",
       "                                                                                                                                                                                                                                                                                                                                                                                                                                                                                                                                                                                                                                                                                                                                                                                                                                                                                                                                                          Traces  \\\n",
       "0  [((ORIGINATED(default), FORWARDED(Routes: ospfE2 [Network: 10.12.11.0/24, Next Hop IP:2.12.22.2]), TRANSMITTED(GigabitEthernet1/0)), (RECEIVED(GigabitEthernet0/0), FORWARDED(Routes: static [Network: 10.12.11.2/32, Next Hop IP:2.23.22.3]), TRANSMITTED(GigabitEthernet2/0)), (RECEIVED(GigabitEthernet0/0), FORWARDED(Routes: static [Network: 10.12.11.2/32, Next Hop IP:2.34.201.4]), TRANSMITTED(GigabitEthernet2/0)), (RECEIVED(GigabitEthernet1/0), PERMITTED(RESTRICT_NETWORK_TRAFFIC_IN (INGRESS_FILTER)), FORWARDED(Routes: static [Network: 10.12.11.2/32, Next Hop IP:2.34.101.3]), TRANSMITTED(GigabitEthernet0/0)), (RECEIVED(GigabitEthernet2/0), FORWARDED(Routes: static [Network: 10.12.11.2/32, Next Hop IP:2.34.201.4]), TRANSMITTED(GigabitEthernet0/0)), (RECEIVED(GigabitEthernet2/0), FORWARDED(Routes: ospfE2 [Network: 10.12.11.0/24, Next Hop IP:2.12.21.1]), TRANSMITTED(GigabitEthernet1/0)), (RECEIVED(GigabitEthernet2/0)))]   \n",
       "\n",
       "  TraceCount  \n",
       "0  1          "
      ]
     },
     "metadata": {},
     "output_type": "display_data"
    }
   ],
   "source": [
    "result = bfq.detectLoops().answer(snapshot=CHANGE_NAME).frame()\n",
    "show(result)"
   ]
  },
  {
   "cell_type": "code",
   "execution_count": 2,
   "metadata": {},
   "outputs": [],
   "source": [
    "from client.apkeep import APKeep"
   ]
  },
  {
   "cell_type": "code",
   "execution_count": 3,
   "metadata": {},
   "outputs": [],
   "source": [
    "ap = APKeep('forwarding-change-validation','base')"
   ]
  },
  {
   "cell_type": "code",
   "execution_count": 4,
   "metadata": {},
   "outputs": [
    {
     "name": "stdout",
     "output_type": "stream",
     "text": [
      "[Errno 111] Connection refused\n"
     ]
    },
    {
     "ename": "SystemExit",
     "evalue": "1",
     "output_type": "error",
     "traceback": [
      "An exception has occurred, use %tb to see the full traceback.\n",
      "\u001b[0;31mSystemExit\u001b[0m\u001b[0;31m:\u001b[0m 1\n"
     ]
    },
    {
     "name": "stderr",
     "output_type": "stream",
     "text": [
      "/home/yuhao/.local/lib/python3.6/site-packages/IPython/core/interactiveshell.py:3327: UserWarning: To exit: use 'exit', 'quit', or Ctrl-D.\n",
      "  warn(\"To exit: use 'exit', 'quit', or Ctrl-D.\", stacklevel=1)\n"
     ]
    }
   ],
   "source": [
    "ap.base_check()"
   ]
  },
  {
   "cell_type": "code",
   "execution_count": 5,
   "metadata": {},
   "outputs": [
    {
     "name": "stdout",
     "output_type": "stream",
     "text": [
      "pyAPKeep links to server: ('127.0.0.1', 65432)\n",
      "send cmd: {\"type\": \"cmd\", \"query\": \"update_check\", \"data\": null}\n",
      "\n",
      "{\"query\":\"update check\",\"type\":\"aka\"}\n",
      "send data: /parsed/batch_updates\n",
      "send cmd: {\"type\": \"cmd\", \"query\": \"update_over\", \"data\": null}\n",
      "\n"
     ]
    }
   ],
   "source": [
    "ans = ap.update_check('change')"
   ]
  },
  {
   "cell_type": "code",
   "execution_count": 7,
   "metadata": {},
   "outputs": [
    {
     "name": "stdout",
     "output_type": "stream",
     "text": [
      "loops : 1\n"
     ]
    }
   ],
   "source": [
    "ans.describe()"
   ]
  },
  {
   "cell_type": "code",
   "execution_count": 10,
   "metadata": {},
   "outputs": [
    {
     "data": {
      "text/html": [
       "<style  type=\"text/css\" >\n",
       "    #T_pybfstylerow0_col0 {\n",
       "            text-align:  left;\n",
       "            vertical-align:  top;\n",
       "        }    #T_pybfstylerow0_col1 {\n",
       "            text-align:  left;\n",
       "            vertical-align:  top;\n",
       "        }    #T_pybfstylerow0_col2 {\n",
       "            text-align:  left;\n",
       "            vertical-align:  top;\n",
       "        }</style><table id=\"T_pybfstyle\"  class=\"tex2jax_ignore\"><thead>    <tr>        <th class=\"blank level0\" ></th>        <th class=\"col_heading level0 col0\" >aps_info</th>        <th class=\"col_heading level0 col1\" >loop_path</th>        <th class=\"col_heading level0 col2\" >loop_num</th>    </tr></thead><tbody>\n",
       "                <tr>\n",
       "                        <th id=\"T_pybfstylelevel0_row0\" class=\"row_heading level0 row0\" >0</th>\n",
       "                        <td id=\"T_pybfstylerow0_col0\" class=\"data row0 col0\" >3599 : 10.12.11.2/32\n",
       "8811 : 10.12.11.2/32</td>\n",
       "                        <td id=\"T_pybfstylerow0_col1\" class=\"data row0 col1\" >loop found for [8811, 3599]: \n",
       "border2,GigabitEthernet1/0\n",
       "core2,GigabitEthernet0/0\n",
       "core2,GigabitEthernet2/0\n",
       "spine2,GigabitEthernet0/0\n",
       "spine2,GigabitEthernet2/0\n",
       "leaf1_RESTRICT_NETWORK_TRAFFIC_IN_GigabitEthernet1/0_in,inport\n",
       "leaf1_RESTRICT_NETWORK_TRAFFIC_IN_GigabitEthernet1/0_in,permit\n",
       "leaf1,GigabitEthernet1/0\n",
       "leaf1,GigabitEthernet0/0\n",
       "spine1,GigabitEthernet2/0\n",
       "spine1,GigabitEthernet0/0\n",
       "core1,GigabitEthernet2/0\n",
       "core1,GigabitEthernet1/0\n",
       "border2,GigabitEthernet2/0\n",
       "border2,GigabitEthernet1/0\n",
       "</td>\n",
       "                        <td id=\"T_pybfstylerow0_col2\" class=\"data row0 col2\" >1</td>\n",
       "            </tr>\n",
       "    </tbody></table>"
      ],
      "text/plain": [
       "                                     aps_info  \\\n",
       "0  3599 : 10.12.11.2/32\\n8811 : 10.12.11.2/32   \n",
       "\n",
       "                                                                                                                                                                                                                                                                                                                                                                                                                                                                                                                     loop_path  \\\n",
       "0  loop found for [8811, 3599]: \\nborder2,GigabitEthernet1/0\\ncore2,GigabitEthernet0/0\\ncore2,GigabitEthernet2/0\\nspine2,GigabitEthernet0/0\\nspine2,GigabitEthernet2/0\\nleaf1_RESTRICT_NETWORK_TRAFFIC_IN_GigabitEthernet1/0_in,inport\\nleaf1_RESTRICT_NETWORK_TRAFFIC_IN_GigabitEthernet1/0_in,permit\\nleaf1,GigabitEthernet1/0\\nleaf1,GigabitEthernet0/0\\nspine1,GigabitEthernet2/0\\nspine1,GigabitEthernet0/0\\ncore1,GigabitEthernet2/0\\ncore1,GigabitEthernet1/0\\nborder2,GigabitEthernet2/0\\nborder2,GigabitEthernet1/0\\n   \n",
       "\n",
       "   loop_num  \n",
       "0  1         "
      ]
     },
     "metadata": {},
     "output_type": "display_data"
    }
   ],
   "source": [
    "show(ans.loops())"
   ]
  },
  {
   "cell_type": "code",
   "execution_count": null,
   "metadata": {},
   "outputs": [],
   "source": []
  }
 ],
 "metadata": {
  "kernelspec": {
   "display_name": "Python 3",
   "language": "python",
   "name": "python3"
  },
  "language_info": {
   "codemirror_mode": {
    "name": "ipython",
    "version": 3
   },
   "file_extension": ".py",
   "mimetype": "text/x-python",
   "name": "python",
   "nbconvert_exporter": "python",
   "pygments_lexer": "ipython3",
   "version": "3.6.9"
  }
 },
 "nbformat": 4,
 "nbformat_minor": 2
}
