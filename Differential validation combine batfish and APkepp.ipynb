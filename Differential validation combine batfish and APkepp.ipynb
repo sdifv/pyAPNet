{
 "cells": [
  {
   "cell_type": "code",
   "execution_count": 1,
   "metadata": {},
   "outputs": [],
   "source": [
    "# Import packages\n",
    "%run startup.py\n",
    "# Load all questions\n",
    "load_questions()"
   ]
  },
  {
   "cell_type": "code",
   "execution_count": 4,
   "metadata": {},
   "outputs": [
    {
     "data": {
      "text/plain": [
       "'base'"
      ]
     },
     "execution_count": 4,
     "metadata": {},
     "output_type": "execute_result"
    }
   ],
   "source": [
    "# initialize network and snapshot\n",
    "NETWORK_NAME = \"forwarding-change-validation\"\n",
    "BASE_NAME = \"base\"\n",
    "BASE_PATH = \"networks/forwarding-change-validation/base\"\n",
    "\n",
    "bf_set_network(NETWORK_NAME)\n",
    "bf_init_snapshot(BASE_PATH, name=BASE_NAME, overwrite=True)\n",
    "# bf_set_snapshot(name = BASE_NAME)"
   ]
  },
  {
   "cell_type": "code",
   "execution_count": 3,
   "metadata": {},
   "outputs": [],
   "source": [
    "df = bfq.routes().answer(snapshot=BASE_NAME).frame()"
   ]
  },
  {
   "cell_type": "code",
   "execution_count": 5,
   "metadata": {},
   "outputs": [
    {
     "data": {
      "text/plain": [
       "'change'"
      ]
     },
     "execution_count": 5,
     "metadata": {},
     "output_type": "execute_result"
    }
   ],
   "source": [
    "CHANGE_NAME = \"change\"\n",
    "CHANGE_PATH = \"networks/forwarding-change-validation/change1\"\n",
    "# bf_set_snapshot(name=CHANGE_NAME)\n",
    "bf_init_snapshot(CHANGE_PATH,name = CHANGE_NAME, overwrite=True)"
   ]
  },
  {
   "cell_type": "code",
   "execution_count": 5,
   "metadata": {},
   "outputs": [],
   "source": [
    "# invoke bfq.routes to push batfish parse config files and compute data plane\n",
    "change_routes = bfq.routes().answer(snapshot = CHANGE_NAME).frame()"
   ]
  },
  {
   "cell_type": "code",
   "execution_count": 26,
   "metadata": {},
   "outputs": [
    {
     "data": {
      "text/html": [
       "<style  type=\"text/css\" >\n",
       "    #T_pybfstylerow0_col0 {\n",
       "            text-align:  left;\n",
       "            vertical-align:  top;\n",
       "        }    #T_pybfstylerow0_col1 {\n",
       "            text-align:  left;\n",
       "            vertical-align:  top;\n",
       "        }    #T_pybfstylerow0_col2 {\n",
       "            text-align:  left;\n",
       "            vertical-align:  top;\n",
       "        }</style><table id=\"T_pybfstyle\"  class=\"tex2jax_ignore\"><thead>    <tr>        <th class=\"blank level0\" ></th>        <th class=\"col_heading level0 col0\" >Flow</th>        <th class=\"col_heading level0 col1\" >Traces</th>        <th class=\"col_heading level0 col2\" >TraceCount</th>    </tr></thead><tbody>\n",
       "                <tr>\n",
       "                        <th id=\"T_pybfstylelevel0_row0\" class=\"row_heading level0 row0\" >0</th>\n",
       "                        <td id=\"T_pybfstylerow0_col0\" class=\"data row0 col0\" >Start Location: border2<br>Src IP: 2.1.1.2<br>Dst IP: 10.12.11.2<br>IP Protocol: ICMP</td>\n",
       "                        <td id=\"T_pybfstylerow0_col1\" class=\"data row0 col1\" ><span style=\"color:#7c020e; text-weight:bold;\">LOOP</span><br><strong>1</strong>. node: border2<br>&nbsp;&nbsp;ORIGINATED(default)<br>&nbsp;&nbsp;FORWARDED(Routes: ospfE2 [Network: 10.12.11.0/24, Next Hop IP:2.12.22.2])<br>&nbsp;&nbsp;TRANSMITTED(GigabitEthernet1/0)<br><strong>2</strong>. node: core2<br>&nbsp;&nbsp;RECEIVED(GigabitEthernet0/0)<br>&nbsp;&nbsp;FORWARDED(Routes: static [Network: 10.12.11.2/32, Next Hop IP:2.23.22.3])<br>&nbsp;&nbsp;TRANSMITTED(GigabitEthernet2/0)<br><strong>3</strong>. node: spine2<br>&nbsp;&nbsp;RECEIVED(GigabitEthernet0/0)<br>&nbsp;&nbsp;FORWARDED(Routes: static [Network: 10.12.11.2/32, Next Hop IP:2.34.201.4])<br>&nbsp;&nbsp;TRANSMITTED(GigabitEthernet2/0)<br><strong>4</strong>. node: leaf1<br>&nbsp;&nbsp;RECEIVED(GigabitEthernet1/0)<br>&nbsp;&nbsp;PERMITTED(RESTRICT_NETWORK_TRAFFIC_IN (INGRESS_FILTER))<br>&nbsp;&nbsp;FORWARDED(Routes: static [Network: 10.12.11.2/32, Next Hop IP:2.34.101.3])<br>&nbsp;&nbsp;TRANSMITTED(GigabitEthernet0/0)<br><strong>5</strong>. node: spine1<br>&nbsp;&nbsp;RECEIVED(GigabitEthernet2/0)<br>&nbsp;&nbsp;FORWARDED(Routes: static [Network: 10.12.11.2/32, Next Hop IP:2.34.201.4])<br>&nbsp;&nbsp;TRANSMITTED(GigabitEthernet0/0)<br><strong>6</strong>. node: core1<br>&nbsp;&nbsp;RECEIVED(GigabitEthernet2/0)<br>&nbsp;&nbsp;FORWARDED(Routes: ospfE2 [Network: 10.12.11.0/24, Next Hop IP:2.12.21.1])<br>&nbsp;&nbsp;TRANSMITTED(GigabitEthernet1/0)<br><strong>7</strong>. node: border2<br>&nbsp;&nbsp;RECEIVED(GigabitEthernet2/0)</td>\n",
       "                        <td id=\"T_pybfstylerow0_col2\" class=\"data row0 col2\" >1</td>\n",
       "            </tr>\n",
       "    </tbody></table>"
      ],
      "text/plain": [
       "                                       Flow  \\\n",
       "0  start=border2 [2.1.1.2->10.12.11.2 ICMP]   \n",
       "\n",
       "                                                                                                                                                                                                                                                                                                                                                                                                                                                                                                                                                                                                                                                                                                                                                                                                                                                                                                                                                          Traces  \\\n",
       "0  [((ORIGINATED(default), FORWARDED(Routes: ospfE2 [Network: 10.12.11.0/24, Next Hop IP:2.12.22.2]), TRANSMITTED(GigabitEthernet1/0)), (RECEIVED(GigabitEthernet0/0), FORWARDED(Routes: static [Network: 10.12.11.2/32, Next Hop IP:2.23.22.3]), TRANSMITTED(GigabitEthernet2/0)), (RECEIVED(GigabitEthernet0/0), FORWARDED(Routes: static [Network: 10.12.11.2/32, Next Hop IP:2.34.201.4]), TRANSMITTED(GigabitEthernet2/0)), (RECEIVED(GigabitEthernet1/0), PERMITTED(RESTRICT_NETWORK_TRAFFIC_IN (INGRESS_FILTER)), FORWARDED(Routes: static [Network: 10.12.11.2/32, Next Hop IP:2.34.101.3]), TRANSMITTED(GigabitEthernet0/0)), (RECEIVED(GigabitEthernet2/0), FORWARDED(Routes: static [Network: 10.12.11.2/32, Next Hop IP:2.34.201.4]), TRANSMITTED(GigabitEthernet0/0)), (RECEIVED(GigabitEthernet2/0), FORWARDED(Routes: ospfE2 [Network: 10.12.11.0/24, Next Hop IP:2.12.21.1]), TRANSMITTED(GigabitEthernet1/0)), (RECEIVED(GigabitEthernet2/0)))]   \n",
       "\n",
       "  TraceCount  \n",
       "0  1          "
      ]
     },
     "metadata": {},
     "output_type": "display_data"
    }
   ],
   "source": [
    "result = bfq.detectLoops().answer(snapshot=CHANGE_NAME).frame()\n",
    "show(result)"
   ]
  },
  {
   "cell_type": "code",
   "execution_count": 1,
   "metadata": {},
   "outputs": [],
   "source": [
    "from client.apkeep import RealConfig\n",
    "import pandas as pd\n",
    "%run startup.py\n",
    "from IPython.display import display,HTML"
   ]
  },
  {
   "cell_type": "code",
   "execution_count": 2,
   "metadata": {},
   "outputs": [],
   "source": [
    "# Initialize an apkeep model based on the original configuration\n",
    "realConfig = RealConfig('forwarding-change-validation','base')"
   ]
  },
  {
   "cell_type": "code",
   "execution_count": 3,
   "metadata": {},
   "outputs": [
    {
     "name": "stdout",
     "output_type": "stream",
     "text": [
      "loops : 0, differentialReachability : 12\n"
     ]
    }
   ],
   "source": [
    "ans1 = realConfig.base_check()"
   ]
  },
  {
   "cell_type": "code",
   "execution_count": 4,
   "metadata": {},
   "outputs": [
    {
     "data": {
      "text/html": [
       "<style  type=\"text/css\" >\n",
       "    #T_964d04c8_b364_11ea_a9d8_1c1bb5c31b58row0_col0 {\n",
       "            text-align:  left;\n",
       "        }    #T_964d04c8_b364_11ea_a9d8_1c1bb5c31b58row0_col1 {\n",
       "            text-align:  left;\n",
       "        }    #T_964d04c8_b364_11ea_a9d8_1c1bb5c31b58row0_col2 {\n",
       "            text-align:  left;\n",
       "        }    #T_964d04c8_b364_11ea_a9d8_1c1bb5c31b58row1_col0 {\n",
       "            text-align:  left;\n",
       "        }    #T_964d04c8_b364_11ea_a9d8_1c1bb5c31b58row1_col1 {\n",
       "            text-align:  left;\n",
       "        }    #T_964d04c8_b364_11ea_a9d8_1c1bb5c31b58row1_col2 {\n",
       "            text-align:  left;\n",
       "        }    #T_964d04c8_b364_11ea_a9d8_1c1bb5c31b58row2_col0 {\n",
       "            text-align:  left;\n",
       "        }    #T_964d04c8_b364_11ea_a9d8_1c1bb5c31b58row2_col1 {\n",
       "            text-align:  left;\n",
       "        }    #T_964d04c8_b364_11ea_a9d8_1c1bb5c31b58row2_col2 {\n",
       "            text-align:  left;\n",
       "        }    #T_964d04c8_b364_11ea_a9d8_1c1bb5c31b58row3_col0 {\n",
       "            text-align:  left;\n",
       "        }    #T_964d04c8_b364_11ea_a9d8_1c1bb5c31b58row3_col1 {\n",
       "            text-align:  left;\n",
       "        }    #T_964d04c8_b364_11ea_a9d8_1c1bb5c31b58row3_col2 {\n",
       "            text-align:  left;\n",
       "        }    #T_964d04c8_b364_11ea_a9d8_1c1bb5c31b58row4_col0 {\n",
       "            text-align:  left;\n",
       "        }    #T_964d04c8_b364_11ea_a9d8_1c1bb5c31b58row4_col1 {\n",
       "            text-align:  left;\n",
       "        }    #T_964d04c8_b364_11ea_a9d8_1c1bb5c31b58row4_col2 {\n",
       "            text-align:  left;\n",
       "        }    #T_964d04c8_b364_11ea_a9d8_1c1bb5c31b58row5_col0 {\n",
       "            text-align:  left;\n",
       "        }    #T_964d04c8_b364_11ea_a9d8_1c1bb5c31b58row5_col1 {\n",
       "            text-align:  left;\n",
       "        }    #T_964d04c8_b364_11ea_a9d8_1c1bb5c31b58row5_col2 {\n",
       "            text-align:  left;\n",
       "        }    #T_964d04c8_b364_11ea_a9d8_1c1bb5c31b58row6_col0 {\n",
       "            text-align:  left;\n",
       "        }    #T_964d04c8_b364_11ea_a9d8_1c1bb5c31b58row6_col1 {\n",
       "            text-align:  left;\n",
       "        }    #T_964d04c8_b364_11ea_a9d8_1c1bb5c31b58row6_col2 {\n",
       "            text-align:  left;\n",
       "        }    #T_964d04c8_b364_11ea_a9d8_1c1bb5c31b58row7_col0 {\n",
       "            text-align:  left;\n",
       "        }    #T_964d04c8_b364_11ea_a9d8_1c1bb5c31b58row7_col1 {\n",
       "            text-align:  left;\n",
       "        }    #T_964d04c8_b364_11ea_a9d8_1c1bb5c31b58row7_col2 {\n",
       "            text-align:  left;\n",
       "        }    #T_964d04c8_b364_11ea_a9d8_1c1bb5c31b58row8_col0 {\n",
       "            text-align:  left;\n",
       "        }    #T_964d04c8_b364_11ea_a9d8_1c1bb5c31b58row8_col1 {\n",
       "            text-align:  left;\n",
       "        }    #T_964d04c8_b364_11ea_a9d8_1c1bb5c31b58row8_col2 {\n",
       "            text-align:  left;\n",
       "        }    #T_964d04c8_b364_11ea_a9d8_1c1bb5c31b58row9_col0 {\n",
       "            text-align:  left;\n",
       "        }    #T_964d04c8_b364_11ea_a9d8_1c1bb5c31b58row9_col1 {\n",
       "            text-align:  left;\n",
       "        }    #T_964d04c8_b364_11ea_a9d8_1c1bb5c31b58row9_col2 {\n",
       "            text-align:  left;\n",
       "        }    #T_964d04c8_b364_11ea_a9d8_1c1bb5c31b58row10_col0 {\n",
       "            text-align:  left;\n",
       "        }    #T_964d04c8_b364_11ea_a9d8_1c1bb5c31b58row10_col1 {\n",
       "            text-align:  left;\n",
       "        }    #T_964d04c8_b364_11ea_a9d8_1c1bb5c31b58row10_col2 {\n",
       "            text-align:  left;\n",
       "        }    #T_964d04c8_b364_11ea_a9d8_1c1bb5c31b58row11_col0 {\n",
       "            text-align:  left;\n",
       "        }    #T_964d04c8_b364_11ea_a9d8_1c1bb5c31b58row11_col1 {\n",
       "            text-align:  left;\n",
       "        }    #T_964d04c8_b364_11ea_a9d8_1c1bb5c31b58row11_col2 {\n",
       "            text-align:  left;\n",
       "        }</style><table id=\"T_964d04c8_b364_11ea_a9d8_1c1bb5c31b58\"  class=\"tex2jax_ignore\"><thead>    <tr>        <th class=\"blank level0\" ></th>        <th class=\"col_heading level0 col0\" >flows</th>        <th class=\"col_heading level0 col1\" >before paths</th>        <th class=\"col_heading level0 col2\" >after paths</th>    </tr></thead><tbody>\n",
       "                <tr>\n",
       "                        <th id=\"T_964d04c8_b364_11ea_a9d8_1c1bb5c31b58level0_row0\" class=\"row_heading level0 row0\" >0</th>\n",
       "                        <td id=\"T_964d04c8_b364_11ea_a9d8_1c1bb5c31b58row0_col0\" class=\"data row0 col0\" ><b>src ip</b>:2.128.0.0-2.128.255.255</br><b>dst ip</b>:2.128.0.0-2.128.0.1</br><b>src port</b>:0-65535</br><b>dst port</b>:0-65535</br><b>protocol</b>:17-17</br></td>\n",
       "                        <td id=\"T_964d04c8_b364_11ea_a9d8_1c1bb5c31b58row0_col1\" class=\"data row0 col1\" ><b>1</b></br><b>(1)</b>.border2</br>RECEIVED(GigabitEthernet0/0)</br>NONE(None)</br>FORWARDED(Routes:(Prefix:None,Next Hop Interface:None))</br>NONE(None)</br>TRANSMITTED(None)</td>\n",
       "                        <td id=\"T_964d04c8_b364_11ea_a9d8_1c1bb5c31b58row0_col2\" class=\"data row0 col2\" ><b>1</b></br><b>(1)</b>.border2</br>RECEIVED(GigabitEthernet0/0)</br>NONE(None)</br>FORWARDED(Routes:(Prefix:None,Next Hop Interface:None))</br>NONE(None)</br>TRANSMITTED(GigabitEthernet2/0)</br><b>(2)</b>.core1</br>RECEIVED(GigabitEthernet1/0)</br>NONE(None)</br>FORWARDED(Routes:(Prefix:None,Next Hop Interface:None))</br>NONE(None)</br>TRANSMITTED(GigabitEthernet2/0)</br><b>(3)</b>.spine1</br>RECEIVED(GigabitEthernet0/0)</br>NONE(None)</br>FORWARDED(Routes:(Prefix:None,Next Hop Interface:None))</br>NONE(None)</br>TRANSMITTED(GigabitEthernet2/0)</br><b>(4)</b>.leaf1</br>RECEIVED(GigabitEthernet0/0)</br>NONE(None)</br>FORWARDED(Routes:(Prefix:None,Next Hop Interface:None))</br>NONE(None)</br>TRANSMITTED(GigabitEthernet2/0)</br><b>(5)</b>.host-db</br>RECEIVED(eth0)</br>NONE(None)</br>FORWARDED(Routes:(Prefix:None,Next Hop Interface:None))</br>NONE(None)</br>TRANSMITTED(None)</td>\n",
       "            </tr>\n",
       "            <tr>\n",
       "                        <th id=\"T_964d04c8_b364_11ea_a9d8_1c1bb5c31b58level0_row1\" class=\"row_heading level0 row1\" >1</th>\n",
       "                        <td id=\"T_964d04c8_b364_11ea_a9d8_1c1bb5c31b58row1_col0\" class=\"data row1 col0\" ><b>src ip</b>:2.128.0.0-2.128.255.255</br><b>dst ip</b>:2.128.0.0-2.128.0.1</br><b>src port</b>:0-65535</br><b>dst port</b>:0-65535</br><b>protocol</b>:17-17</br></td>\n",
       "                        <td id=\"T_964d04c8_b364_11ea_a9d8_1c1bb5c31b58row1_col1\" class=\"data row1 col1\" ><b>1</b></br><b>(1)</b>.border1</br>RECEIVED(GigabitEthernet0/0)</br>NONE(None)</br>FORWARDED(Routes:(Prefix:None,Next Hop Interface:None))</br>NONE(None)</br>TRANSMITTED(None)</td>\n",
       "                        <td id=\"T_964d04c8_b364_11ea_a9d8_1c1bb5c31b58row1_col2\" class=\"data row1 col2\" ><b>1</b></br><b>(1)</b>.border1</br>RECEIVED(GigabitEthernet0/0)</br>NONE(None)</br>FORWARDED(Routes:(Prefix:None,Next Hop Interface:None))</br>NONE(None)</br>TRANSMITTED(GigabitEthernet1/0)</br><b>(2)</b>.core1</br>RECEIVED(GigabitEthernet0/0)</br>NONE(None)</br>FORWARDED(Routes:(Prefix:None,Next Hop Interface:None))</br>NONE(None)</br>TRANSMITTED(GigabitEthernet2/0)</br><b>(3)</b>.spine1</br>RECEIVED(GigabitEthernet0/0)</br>NONE(None)</br>FORWARDED(Routes:(Prefix:None,Next Hop Interface:None))</br>NONE(None)</br>TRANSMITTED(GigabitEthernet2/0)</br><b>(4)</b>.leaf1</br>RECEIVED(GigabitEthernet0/0)</br>NONE(None)</br>FORWARDED(Routes:(Prefix:None,Next Hop Interface:None))</br>NONE(None)</br>TRANSMITTED(GigabitEthernet2/0)</br><b>(5)</b>.host-db</br>RECEIVED(eth0)</br>NONE(None)</br>FORWARDED(Routes:(Prefix:None,Next Hop Interface:None))</br>NONE(None)</br>TRANSMITTED(None)</td>\n",
       "            </tr>\n",
       "            <tr>\n",
       "                        <th id=\"T_964d04c8_b364_11ea_a9d8_1c1bb5c31b58level0_row2\" class=\"row_heading level0 row2\" >2</th>\n",
       "                        <td id=\"T_964d04c8_b364_11ea_a9d8_1c1bb5c31b58row2_col0\" class=\"data row2 col0\" ><b>src ip</b>:2.129.0.0-255.255.255.255</br><b>dst ip</b>:2.128.1.1-2.128.1.1</br><b>src port</b>:0-65535</br><b>dst port</b>:22-22</br><b>protocol</b>:6-6</br></td>\n",
       "                        <td id=\"T_964d04c8_b364_11ea_a9d8_1c1bb5c31b58row2_col1\" class=\"data row2 col1\" ><b>1</b></br><b>(1)</b>.border2</br>RECEIVED(GigabitEthernet0/0)</br>NONE(None)</br>FORWARDED(Routes:(Prefix:None,Next Hop Interface:None))</br>NONE(None)</br>TRANSMITTED(None)</td>\n",
       "                        <td id=\"T_964d04c8_b364_11ea_a9d8_1c1bb5c31b58row2_col2\" class=\"data row2 col2\" ><b>1</b></br><b>(1)</b>.border2</br>RECEIVED(GigabitEthernet0/0)</br>NONE(None)</br>FORWARDED(Routes:(Prefix:None,Next Hop Interface:None))</br>NONE(None)</br>TRANSMITTED(GigabitEthernet2/0)</br><b>(2)</b>.core1</br>RECEIVED(GigabitEthernet1/0)</br>NONE(None)</br>FORWARDED(Routes:(Prefix:None,Next Hop Interface:None))</br>NONE(None)</br>TRANSMITTED(GigabitEthernet2/0)</br><b>(3)</b>.spine1</br>RECEIVED(GigabitEthernet0/0)</br>NONE(None)</br>FORWARDED(Routes:(Prefix:None,Next Hop Interface:None))</br>NONE(None)</br>TRANSMITTED(GigabitEthernet2/0)</br><b>(4)</b>.leaf1</br>RECEIVED(GigabitEthernet0/0)</br>NONE(None)</br>FORWARDED(Routes:(Prefix:None,Next Hop Interface:None))</br>NONE(None)</br>TRANSMITTED(GigabitEthernet3/0)</br><b>(5)</b>.host-www</br>RECEIVED(eth0)</br>NONE(None)</br>FORWARDED(Routes:(Prefix:None,Next Hop Interface:None))</br>NONE(None)</br>TRANSMITTED(None)</td>\n",
       "            </tr>\n",
       "            <tr>\n",
       "                        <th id=\"T_964d04c8_b364_11ea_a9d8_1c1bb5c31b58level0_row3\" class=\"row_heading level0 row3\" >3</th>\n",
       "                        <td id=\"T_964d04c8_b364_11ea_a9d8_1c1bb5c31b58row3_col0\" class=\"data row3 col0\" ><b>src ip</b>:2.128.0.0-2.128.255.255</br><b>dst ip</b>:2.128.1.1-2.128.1.1</br><b>src port</b>:0-65535</br><b>dst port</b>:0-65535</br><b>protocol</b>:17-17</br></td>\n",
       "                        <td id=\"T_964d04c8_b364_11ea_a9d8_1c1bb5c31b58row3_col1\" class=\"data row3 col1\" ><b>1</b></br><b>(1)</b>.border1</br>RECEIVED(GigabitEthernet0/0)</br>NONE(None)</br>FORWARDED(Routes:(Prefix:None,Next Hop Interface:None))</br>NONE(None)</br>TRANSMITTED(None)</td>\n",
       "                        <td id=\"T_964d04c8_b364_11ea_a9d8_1c1bb5c31b58row3_col2\" class=\"data row3 col2\" ><b>1</b></br><b>(1)</b>.border1</br>RECEIVED(GigabitEthernet0/0)</br>NONE(None)</br>FORWARDED(Routes:(Prefix:None,Next Hop Interface:None))</br>NONE(None)</br>TRANSMITTED(GigabitEthernet1/0)</br><b>(2)</b>.core1</br>RECEIVED(GigabitEthernet0/0)</br>NONE(None)</br>FORWARDED(Routes:(Prefix:None,Next Hop Interface:None))</br>NONE(None)</br>TRANSMITTED(GigabitEthernet2/0)</br><b>(3)</b>.spine1</br>RECEIVED(GigabitEthernet0/0)</br>NONE(None)</br>FORWARDED(Routes:(Prefix:None,Next Hop Interface:None))</br>NONE(None)</br>TRANSMITTED(GigabitEthernet2/0)</br><b>(4)</b>.leaf1</br>RECEIVED(GigabitEthernet0/0)</br>NONE(None)</br>FORWARDED(Routes:(Prefix:None,Next Hop Interface:None))</br>NONE(None)</br>TRANSMITTED(GigabitEthernet3/0)</br><b>(5)</b>.host-www</br>RECEIVED(eth0)</br>NONE(None)</br>FORWARDED(Routes:(Prefix:None,Next Hop Interface:None))</br>NONE(None)</br>TRANSMITTED(None)</td>\n",
       "            </tr>\n",
       "            <tr>\n",
       "                        <th id=\"T_964d04c8_b364_11ea_a9d8_1c1bb5c31b58level0_row4\" class=\"row_heading level0 row4\" >4</th>\n",
       "                        <td id=\"T_964d04c8_b364_11ea_a9d8_1c1bb5c31b58row4_col0\" class=\"data row4 col0\" ><b>src ip</b>:0.0.0.0-2.127.255.255</br><b>dst ip</b>:2.128.0.0-2.128.0.1</br><b>src port</b>:0-65535</br><b>dst port</b>:0-65535</br><b>protocol</b>:17-17</br></td>\n",
       "                        <td id=\"T_964d04c8_b364_11ea_a9d8_1c1bb5c31b58row4_col1\" class=\"data row4 col1\" ><b>1</b></br><b>(1)</b>.border1</br>RECEIVED(GigabitEthernet0/0)</br>NONE(None)</br>FORWARDED(Routes:(Prefix:None,Next Hop Interface:None))</br>NONE(None)</br>TRANSMITTED(None)</td>\n",
       "                        <td id=\"T_964d04c8_b364_11ea_a9d8_1c1bb5c31b58row4_col2\" class=\"data row4 col2\" ><b>1</b></br><b>(1)</b>.border1</br>RECEIVED(GigabitEthernet0/0)</br>NONE(None)</br>FORWARDED(Routes:(Prefix:None,Next Hop Interface:None))</br>NONE(None)</br>TRANSMITTED(GigabitEthernet1/0)</br><b>(2)</b>.core1</br>RECEIVED(GigabitEthernet0/0)</br>NONE(None)</br>FORWARDED(Routes:(Prefix:None,Next Hop Interface:None))</br>NONE(None)</br>TRANSMITTED(GigabitEthernet2/0)</br><b>(3)</b>.spine1</br>RECEIVED(GigabitEthernet0/0)</br>NONE(None)</br>FORWARDED(Routes:(Prefix:None,Next Hop Interface:None))</br>NONE(None)</br>TRANSMITTED(GigabitEthernet2/0)</br><b>(4)</b>.leaf1</br>RECEIVED(GigabitEthernet0/0)</br>NONE(None)</br>FORWARDED(Routes:(Prefix:None,Next Hop Interface:None))</br>NONE(None)</br>TRANSMITTED(GigabitEthernet2/0)</br><b>(5)</b>.host-db</br>RECEIVED(eth0)</br>NONE(None)</br>FORWARDED(Routes:(Prefix:None,Next Hop Interface:None))</br>NONE(None)</br>TRANSMITTED(None)</td>\n",
       "            </tr>\n",
       "            <tr>\n",
       "                        <th id=\"T_964d04c8_b364_11ea_a9d8_1c1bb5c31b58level0_row5\" class=\"row_heading level0 row5\" >5</th>\n",
       "                        <td id=\"T_964d04c8_b364_11ea_a9d8_1c1bb5c31b58row5_col0\" class=\"data row5 col0\" ><b>src ip</b>:2.128.0.0-2.128.255.255</br><b>dst ip</b>:2.128.1.3-2.128.1.3</br><b>src port</b>:0-65535</br><b>dst port</b>:22-22</br><b>protocol</b>:6-6</br></td>\n",
       "                        <td id=\"T_964d04c8_b364_11ea_a9d8_1c1bb5c31b58row5_col1\" class=\"data row5 col1\" ><b>1</b></br><b>(1)</b>.border2</br>RECEIVED(GigabitEthernet0/0)</br>NONE(None)</br>FORWARDED(Routes:(Prefix:None,Next Hop Interface:None))</br>NONE(None)</br>TRANSMITTED(None)</td>\n",
       "                        <td id=\"T_964d04c8_b364_11ea_a9d8_1c1bb5c31b58row5_col2\" class=\"data row5 col2\" ><b>1</b></br><b>(1)</b>.border2</br>RECEIVED(GigabitEthernet0/0)</br>NONE(None)</br>FORWARDED(Routes:(Prefix:None,Next Hop Interface:None))</br>NONE(None)</br>TRANSMITTED(GigabitEthernet2/0)</br><b>(2)</b>.core1</br>RECEIVED(GigabitEthernet1/0)</br>NONE(None)</br>FORWARDED(Routes:(Prefix:None,Next Hop Interface:None))</br>NONE(None)</br>TRANSMITTED(GigabitEthernet2/0)</br><b>(3)</b>.spine1</br>RECEIVED(GigabitEthernet0/0)</br>NONE(None)</br>FORWARDED(Routes:(Prefix:None,Next Hop Interface:None))</br>NONE(None)</br>TRANSMITTED(GigabitEthernet2/0)</br><b>(4)</b>.leaf1</br>RECEIVED(GigabitEthernet0/0)</br>NONE(None)</br>FORWARDED(Routes:(Prefix:None,Next Hop Interface:None))</br>NONE(None)</br>TRANSMITTED(GigabitEthernet3/0)</br><b>(5)</b>.host-www</br>RECEIVED(eth0)</br>NONE(None)</br>FORWARDED(Routes:(Prefix:None,Next Hop Interface:None))</br>NONE(None)</br>TRANSMITTED(None)</td>\n",
       "            </tr>\n",
       "            <tr>\n",
       "                        <th id=\"T_964d04c8_b364_11ea_a9d8_1c1bb5c31b58level0_row6\" class=\"row_heading level0 row6\" >6</th>\n",
       "                        <td id=\"T_964d04c8_b364_11ea_a9d8_1c1bb5c31b58row6_col0\" class=\"data row6 col0\" ><b>src ip</b>:0.0.0.0-2.127.255.255</br><b>dst ip</b>:2.128.1.3-2.128.1.3</br><b>src port</b>:0-65535</br><b>dst port</b>:0-65535</br><b>protocol</b>:17-17</br></td>\n",
       "                        <td id=\"T_964d04c8_b364_11ea_a9d8_1c1bb5c31b58row6_col1\" class=\"data row6 col1\" ><b>1</b></br><b>(1)</b>.border1</br>RECEIVED(GigabitEthernet0/0)</br>NONE(None)</br>FORWARDED(Routes:(Prefix:None,Next Hop Interface:None))</br>NONE(None)</br>TRANSMITTED(None)</td>\n",
       "                        <td id=\"T_964d04c8_b364_11ea_a9d8_1c1bb5c31b58row6_col2\" class=\"data row6 col2\" ><b>1</b></br><b>(1)</b>.border1</br>RECEIVED(GigabitEthernet0/0)</br>NONE(None)</br>FORWARDED(Routes:(Prefix:None,Next Hop Interface:None))</br>NONE(None)</br>TRANSMITTED(GigabitEthernet1/0)</br><b>(2)</b>.core1</br>RECEIVED(GigabitEthernet0/0)</br>NONE(None)</br>FORWARDED(Routes:(Prefix:None,Next Hop Interface:None))</br>NONE(None)</br>TRANSMITTED(GigabitEthernet2/0)</br><b>(3)</b>.spine1</br>RECEIVED(GigabitEthernet0/0)</br>NONE(None)</br>FORWARDED(Routes:(Prefix:None,Next Hop Interface:None))</br>NONE(None)</br>TRANSMITTED(GigabitEthernet2/0)</br><b>(4)</b>.leaf1</br>RECEIVED(GigabitEthernet0/0)</br>NONE(None)</br>FORWARDED(Routes:(Prefix:None,Next Hop Interface:None))</br>NONE(None)</br>TRANSMITTED(GigabitEthernet3/0)</br><b>(5)</b>.host-www</br>RECEIVED(eth0)</br>NONE(None)</br>FORWARDED(Routes:(Prefix:None,Next Hop Interface:None))</br>NONE(None)</br>TRANSMITTED(None)</td>\n",
       "            </tr>\n",
       "            <tr>\n",
       "                        <th id=\"T_964d04c8_b364_11ea_a9d8_1c1bb5c31b58level0_row7\" class=\"row_heading level0 row7\" >7</th>\n",
       "                        <td id=\"T_964d04c8_b364_11ea_a9d8_1c1bb5c31b58row7_col0\" class=\"data row7 col0\" ><b>src ip</b>:2.128.0.0-2.128.255.255</br><b>dst ip</b>:2.128.1.1-2.128.1.1</br><b>src port</b>:0-65535</br><b>dst port</b>:0-65535</br><b>protocol</b>:17-17</br></td>\n",
       "                        <td id=\"T_964d04c8_b364_11ea_a9d8_1c1bb5c31b58row7_col1\" class=\"data row7 col1\" ><b>1</b></br><b>(1)</b>.border2</br>RECEIVED(GigabitEthernet0/0)</br>NONE(None)</br>FORWARDED(Routes:(Prefix:None,Next Hop Interface:None))</br>NONE(None)</br>TRANSMITTED(None)</td>\n",
       "                        <td id=\"T_964d04c8_b364_11ea_a9d8_1c1bb5c31b58row7_col2\" class=\"data row7 col2\" ><b>1</b></br><b>(1)</b>.border2</br>RECEIVED(GigabitEthernet0/0)</br>NONE(None)</br>FORWARDED(Routes:(Prefix:None,Next Hop Interface:None))</br>NONE(None)</br>TRANSMITTED(GigabitEthernet2/0)</br><b>(2)</b>.core1</br>RECEIVED(GigabitEthernet1/0)</br>NONE(None)</br>FORWARDED(Routes:(Prefix:None,Next Hop Interface:None))</br>NONE(None)</br>TRANSMITTED(GigabitEthernet2/0)</br><b>(3)</b>.spine1</br>RECEIVED(GigabitEthernet0/0)</br>NONE(None)</br>FORWARDED(Routes:(Prefix:None,Next Hop Interface:None))</br>NONE(None)</br>TRANSMITTED(GigabitEthernet2/0)</br><b>(4)</b>.leaf1</br>RECEIVED(GigabitEthernet0/0)</br>NONE(None)</br>FORWARDED(Routes:(Prefix:None,Next Hop Interface:None))</br>NONE(None)</br>TRANSMITTED(GigabitEthernet3/0)</br><b>(5)</b>.host-www</br>RECEIVED(eth0)</br>NONE(None)</br>FORWARDED(Routes:(Prefix:None,Next Hop Interface:None))</br>NONE(None)</br>TRANSMITTED(None)</td>\n",
       "            </tr>\n",
       "            <tr>\n",
       "                        <th id=\"T_964d04c8_b364_11ea_a9d8_1c1bb5c31b58level0_row8\" class=\"row_heading level0 row8\" >8</th>\n",
       "                        <td id=\"T_964d04c8_b364_11ea_a9d8_1c1bb5c31b58row8_col0\" class=\"data row8 col0\" ><b>src ip</b>:0.0.0.0-2.127.255.255</br><b>dst ip</b>:2.128.0.0-2.128.0.1</br><b>src port</b>:0-65535</br><b>dst port</b>:0-65535</br><b>protocol</b>:17-17</br></td>\n",
       "                        <td id=\"T_964d04c8_b364_11ea_a9d8_1c1bb5c31b58row8_col1\" class=\"data row8 col1\" ><b>1</b></br><b>(1)</b>.border2</br>RECEIVED(GigabitEthernet0/0)</br>NONE(None)</br>FORWARDED(Routes:(Prefix:None,Next Hop Interface:None))</br>NONE(None)</br>TRANSMITTED(None)</td>\n",
       "                        <td id=\"T_964d04c8_b364_11ea_a9d8_1c1bb5c31b58row8_col2\" class=\"data row8 col2\" ><b>1</b></br><b>(1)</b>.border2</br>RECEIVED(GigabitEthernet0/0)</br>NONE(None)</br>FORWARDED(Routes:(Prefix:None,Next Hop Interface:None))</br>NONE(None)</br>TRANSMITTED(GigabitEthernet2/0)</br><b>(2)</b>.core1</br>RECEIVED(GigabitEthernet1/0)</br>NONE(None)</br>FORWARDED(Routes:(Prefix:None,Next Hop Interface:None))</br>NONE(None)</br>TRANSMITTED(GigabitEthernet2/0)</br><b>(3)</b>.spine1</br>RECEIVED(GigabitEthernet0/0)</br>NONE(None)</br>FORWARDED(Routes:(Prefix:None,Next Hop Interface:None))</br>NONE(None)</br>TRANSMITTED(GigabitEthernet2/0)</br><b>(4)</b>.leaf1</br>RECEIVED(GigabitEthernet0/0)</br>NONE(None)</br>FORWARDED(Routes:(Prefix:None,Next Hop Interface:None))</br>NONE(None)</br>TRANSMITTED(GigabitEthernet2/0)</br><b>(5)</b>.host-db</br>RECEIVED(eth0)</br>NONE(None)</br>FORWARDED(Routes:(Prefix:None,Next Hop Interface:None))</br>NONE(None)</br>TRANSMITTED(None)</td>\n",
       "            </tr>\n",
       "            <tr>\n",
       "                        <th id=\"T_964d04c8_b364_11ea_a9d8_1c1bb5c31b58level0_row9\" class=\"row_heading level0 row9\" >9</th>\n",
       "                        <td id=\"T_964d04c8_b364_11ea_a9d8_1c1bb5c31b58row9_col0\" class=\"data row9 col0\" ><b>src ip</b>:2.129.0.0-255.255.255.255</br><b>dst ip</b>:2.128.1.1-2.128.1.1</br><b>src port</b>:0-65535</br><b>dst port</b>:22-22</br><b>protocol</b>:6-6</br></td>\n",
       "                        <td id=\"T_964d04c8_b364_11ea_a9d8_1c1bb5c31b58row9_col1\" class=\"data row9 col1\" ><b>1</b></br><b>(1)</b>.border1</br>RECEIVED(GigabitEthernet0/0)</br>NONE(None)</br>FORWARDED(Routes:(Prefix:None,Next Hop Interface:None))</br>NONE(None)</br>TRANSMITTED(None)</td>\n",
       "                        <td id=\"T_964d04c8_b364_11ea_a9d8_1c1bb5c31b58row9_col2\" class=\"data row9 col2\" ><b>1</b></br><b>(1)</b>.border1</br>RECEIVED(GigabitEthernet0/0)</br>NONE(None)</br>FORWARDED(Routes:(Prefix:None,Next Hop Interface:None))</br>NONE(None)</br>TRANSMITTED(GigabitEthernet1/0)</br><b>(2)</b>.core1</br>RECEIVED(GigabitEthernet0/0)</br>NONE(None)</br>FORWARDED(Routes:(Prefix:None,Next Hop Interface:None))</br>NONE(None)</br>TRANSMITTED(GigabitEthernet2/0)</br><b>(3)</b>.spine1</br>RECEIVED(GigabitEthernet0/0)</br>NONE(None)</br>FORWARDED(Routes:(Prefix:None,Next Hop Interface:None))</br>NONE(None)</br>TRANSMITTED(GigabitEthernet2/0)</br><b>(4)</b>.leaf1</br>RECEIVED(GigabitEthernet0/0)</br>NONE(None)</br>FORWARDED(Routes:(Prefix:None,Next Hop Interface:None))</br>NONE(None)</br>TRANSMITTED(GigabitEthernet3/0)</br><b>(5)</b>.host-www</br>RECEIVED(eth0)</br>NONE(None)</br>FORWARDED(Routes:(Prefix:None,Next Hop Interface:None))</br>NONE(None)</br>TRANSMITTED(None)</td>\n",
       "            </tr>\n",
       "            <tr>\n",
       "                        <th id=\"T_964d04c8_b364_11ea_a9d8_1c1bb5c31b58level0_row10\" class=\"row_heading level0 row10\" >10</th>\n",
       "                        <td id=\"T_964d04c8_b364_11ea_a9d8_1c1bb5c31b58row10_col0\" class=\"data row10 col0\" ><b>src ip</b>:2.128.0.0-2.128.255.255</br><b>dst ip</b>:2.128.1.3-2.128.1.3</br><b>src port</b>:0-65535</br><b>dst port</b>:22-22</br><b>protocol</b>:6-6</br></td>\n",
       "                        <td id=\"T_964d04c8_b364_11ea_a9d8_1c1bb5c31b58row10_col1\" class=\"data row10 col1\" ><b>1</b></br><b>(1)</b>.border1</br>RECEIVED(GigabitEthernet0/0)</br>NONE(None)</br>FORWARDED(Routes:(Prefix:None,Next Hop Interface:None))</br>NONE(None)</br>TRANSMITTED(None)</td>\n",
       "                        <td id=\"T_964d04c8_b364_11ea_a9d8_1c1bb5c31b58row10_col2\" class=\"data row10 col2\" ><b>1</b></br><b>(1)</b>.border1</br>RECEIVED(GigabitEthernet0/0)</br>NONE(None)</br>FORWARDED(Routes:(Prefix:None,Next Hop Interface:None))</br>NONE(None)</br>TRANSMITTED(GigabitEthernet1/0)</br><b>(2)</b>.core1</br>RECEIVED(GigabitEthernet0/0)</br>NONE(None)</br>FORWARDED(Routes:(Prefix:None,Next Hop Interface:None))</br>NONE(None)</br>TRANSMITTED(GigabitEthernet2/0)</br><b>(3)</b>.spine1</br>RECEIVED(GigabitEthernet0/0)</br>NONE(None)</br>FORWARDED(Routes:(Prefix:None,Next Hop Interface:None))</br>NONE(None)</br>TRANSMITTED(GigabitEthernet2/0)</br><b>(4)</b>.leaf1</br>RECEIVED(GigabitEthernet0/0)</br>NONE(None)</br>FORWARDED(Routes:(Prefix:None,Next Hop Interface:None))</br>NONE(None)</br>TRANSMITTED(GigabitEthernet3/0)</br><b>(5)</b>.host-www</br>RECEIVED(eth0)</br>NONE(None)</br>FORWARDED(Routes:(Prefix:None,Next Hop Interface:None))</br>NONE(None)</br>TRANSMITTED(None)</td>\n",
       "            </tr>\n",
       "            <tr>\n",
       "                        <th id=\"T_964d04c8_b364_11ea_a9d8_1c1bb5c31b58level0_row11\" class=\"row_heading level0 row11\" >11</th>\n",
       "                        <td id=\"T_964d04c8_b364_11ea_a9d8_1c1bb5c31b58row11_col0\" class=\"data row11 col0\" ><b>src ip</b>:0.0.0.0-2.127.255.255</br><b>dst ip</b>:2.128.1.3-2.128.1.3</br><b>src port</b>:0-65535</br><b>dst port</b>:0-65535</br><b>protocol</b>:17-17</br></td>\n",
       "                        <td id=\"T_964d04c8_b364_11ea_a9d8_1c1bb5c31b58row11_col1\" class=\"data row11 col1\" ><b>1</b></br><b>(1)</b>.border2</br>RECEIVED(GigabitEthernet0/0)</br>NONE(None)</br>FORWARDED(Routes:(Prefix:None,Next Hop Interface:None))</br>NONE(None)</br>TRANSMITTED(None)</td>\n",
       "                        <td id=\"T_964d04c8_b364_11ea_a9d8_1c1bb5c31b58row11_col2\" class=\"data row11 col2\" ><b>1</b></br><b>(1)</b>.border2</br>RECEIVED(GigabitEthernet0/0)</br>NONE(None)</br>FORWARDED(Routes:(Prefix:None,Next Hop Interface:None))</br>NONE(None)</br>TRANSMITTED(GigabitEthernet2/0)</br><b>(2)</b>.core1</br>RECEIVED(GigabitEthernet1/0)</br>NONE(None)</br>FORWARDED(Routes:(Prefix:None,Next Hop Interface:None))</br>NONE(None)</br>TRANSMITTED(GigabitEthernet2/0)</br><b>(3)</b>.spine1</br>RECEIVED(GigabitEthernet0/0)</br>NONE(None)</br>FORWARDED(Routes:(Prefix:None,Next Hop Interface:None))</br>NONE(None)</br>TRANSMITTED(GigabitEthernet2/0)</br><b>(4)</b>.leaf1</br>RECEIVED(GigabitEthernet0/0)</br>NONE(None)</br>FORWARDED(Routes:(Prefix:None,Next Hop Interface:None))</br>NONE(None)</br>TRANSMITTED(GigabitEthernet3/0)</br><b>(5)</b>.host-www</br>RECEIVED(eth0)</br>NONE(None)</br>FORWARDED(Routes:(Prefix:None,Next Hop Interface:None))</br>NONE(None)</br>TRANSMITTED(None)</td>\n",
       "            </tr>\n",
       "    </tbody></table>"
      ],
      "text/plain": [
       "<IPython.core.display.HTML object>"
      ]
     },
     "metadata": {},
     "output_type": "display_data"
    }
   ],
   "source": [
    "ans1.differentialReachability()"
   ]
  },
  {
   "cell_type": "code",
   "execution_count": 5,
   "metadata": {},
   "outputs": [
    {
     "name": "stdout",
     "output_type": "stream",
     "text": [
      "loops : 0, differentialReachability : 4\n"
     ]
    }
   ],
   "source": [
    "ans2 = realConfig.update_check('change')"
   ]
  },
  {
   "cell_type": "code",
   "execution_count": 6,
   "metadata": {},
   "outputs": [
    {
     "data": {
      "text/html": [
       "<style  type=\"text/css\" >\n",
       "    #T_acec8e56_b364_11ea_a9d8_1c1bb5c31b58row0_col0 {\n",
       "            text-align:  left;\n",
       "        }    #T_acec8e56_b364_11ea_a9d8_1c1bb5c31b58row0_col1 {\n",
       "            text-align:  left;\n",
       "        }    #T_acec8e56_b364_11ea_a9d8_1c1bb5c31b58row0_col2 {\n",
       "            text-align:  left;\n",
       "        }    #T_acec8e56_b364_11ea_a9d8_1c1bb5c31b58row1_col0 {\n",
       "            text-align:  left;\n",
       "        }    #T_acec8e56_b364_11ea_a9d8_1c1bb5c31b58row1_col1 {\n",
       "            text-align:  left;\n",
       "        }    #T_acec8e56_b364_11ea_a9d8_1c1bb5c31b58row1_col2 {\n",
       "            text-align:  left;\n",
       "        }    #T_acec8e56_b364_11ea_a9d8_1c1bb5c31b58row2_col0 {\n",
       "            text-align:  left;\n",
       "        }    #T_acec8e56_b364_11ea_a9d8_1c1bb5c31b58row2_col1 {\n",
       "            text-align:  left;\n",
       "        }    #T_acec8e56_b364_11ea_a9d8_1c1bb5c31b58row2_col2 {\n",
       "            text-align:  left;\n",
       "        }    #T_acec8e56_b364_11ea_a9d8_1c1bb5c31b58row3_col0 {\n",
       "            text-align:  left;\n",
       "        }    #T_acec8e56_b364_11ea_a9d8_1c1bb5c31b58row3_col1 {\n",
       "            text-align:  left;\n",
       "        }    #T_acec8e56_b364_11ea_a9d8_1c1bb5c31b58row3_col2 {\n",
       "            text-align:  left;\n",
       "        }</style><table id=\"T_acec8e56_b364_11ea_a9d8_1c1bb5c31b58\"  class=\"tex2jax_ignore\"><thead>    <tr>        <th class=\"blank level0\" ></th>        <th class=\"col_heading level0 col0\" >flows</th>        <th class=\"col_heading level0 col1\" >before paths</th>        <th class=\"col_heading level0 col2\" >after paths</th>    </tr></thead><tbody>\n",
       "                <tr>\n",
       "                        <th id=\"T_acec8e56_b364_11ea_a9d8_1c1bb5c31b58level0_row0\" class=\"row_heading level0 row0\" >0</th>\n",
       "                        <td id=\"T_acec8e56_b364_11ea_a9d8_1c1bb5c31b58row0_col0\" class=\"data row0 col0\" ><b>src ip</b>:2.128.0.0-2.128.255.255</br><b>dst ip</b>:2.128.1.1-2.128.1.1</br><b>src port</b>:0-65535</br><b>dst port</b>:0-65535</br><b>protocol</b>:17-17</br></td>\n",
       "                        <td id=\"T_acec8e56_b364_11ea_a9d8_1c1bb5c31b58row0_col1\" class=\"data row0 col1\" ><b>1</b></br><b>(1)</b>.border1</br>RECEIVED(GigabitEthernet0/0)</br>NONE(None)</br>FORWARDED(Routes:(Prefix:None,Next Hop Interface:None))</br>NONE(None)</br>TRANSMITTED(GigabitEthernet1/0)</br><b>(2)</b>.core1</br>RECEIVED(GigabitEthernet0/0)</br>NONE(None)</br>FORWARDED(Routes:(Prefix:None,Next Hop Interface:None))</br>NONE(None)</br>TRANSMITTED(GigabitEthernet2/0)</br><b>(3)</b>.spine1</br>RECEIVED(GigabitEthernet0/0)</br>NONE(None)</br>FORWARDED(Routes:(Prefix:None,Next Hop Interface:None))</br>NONE(None)</br>TRANSMITTED(GigabitEthernet2/0)</br><b>(4)</b>.leaf1</br>RECEIVED(GigabitEthernet0/0)</br>NONE(None)</br>FORWARDED(Routes:(Prefix:None,Next Hop Interface:None))</br>NONE(None)</br>TRANSMITTED(GigabitEthernet3/0)</br><b>(5)</b>.host-www</br>RECEIVED(eth0)</br>NONE(None)</br>FORWARDED(Routes:(Prefix:None,Next Hop Interface:None))</br>NONE(None)</br>TRANSMITTED(None)</td>\n",
       "                        <td id=\"T_acec8e56_b364_11ea_a9d8_1c1bb5c31b58row0_col2\" class=\"data row0 col2\" ><b>1</b></br><b>(1)</b>.border1</br>RECEIVED(GigabitEthernet0/0)</br>NONE(None)</br>FORWARDED(Routes:(Prefix:None,Next Hop Interface:None))</br>NONE(None)</br>TRANSMITTED(GigabitEthernet2/0)</br><b>(2)</b>.core2</br>RECEIVED(GigabitEthernet1/0)</br>NONE(None)</br>FORWARDED(Routes:(Prefix:None,Next Hop Interface:None))</br>NONE(None)</br>TRANSMITTED(null)</td>\n",
       "            </tr>\n",
       "            <tr>\n",
       "                        <th id=\"T_acec8e56_b364_11ea_a9d8_1c1bb5c31b58level0_row1\" class=\"row_heading level0 row1\" >1</th>\n",
       "                        <td id=\"T_acec8e56_b364_11ea_a9d8_1c1bb5c31b58row1_col0\" class=\"data row1 col0\" ><b>src ip</b>:2.129.0.0-255.255.255.255</br><b>dst ip</b>:2.128.1.1-2.128.1.1</br><b>src port</b>:0-65535</br><b>dst port</b>:22-22</br><b>protocol</b>:6-6</br></td>\n",
       "                        <td id=\"T_acec8e56_b364_11ea_a9d8_1c1bb5c31b58row1_col1\" class=\"data row1 col1\" ><b>1</b></br><b>(1)</b>.border1</br>RECEIVED(GigabitEthernet0/0)</br>NONE(None)</br>FORWARDED(Routes:(Prefix:None,Next Hop Interface:None))</br>NONE(None)</br>TRANSMITTED(GigabitEthernet1/0)</br><b>(2)</b>.core1</br>RECEIVED(GigabitEthernet0/0)</br>NONE(None)</br>FORWARDED(Routes:(Prefix:None,Next Hop Interface:None))</br>NONE(None)</br>TRANSMITTED(GigabitEthernet2/0)</br><b>(3)</b>.spine1</br>RECEIVED(GigabitEthernet0/0)</br>NONE(None)</br>FORWARDED(Routes:(Prefix:None,Next Hop Interface:None))</br>NONE(None)</br>TRANSMITTED(GigabitEthernet2/0)</br><b>(4)</b>.leaf1</br>RECEIVED(GigabitEthernet0/0)</br>NONE(None)</br>FORWARDED(Routes:(Prefix:None,Next Hop Interface:None))</br>NONE(None)</br>TRANSMITTED(GigabitEthernet3/0)</br><b>(5)</b>.host-www</br>RECEIVED(eth0)</br>NONE(None)</br>FORWARDED(Routes:(Prefix:None,Next Hop Interface:None))</br>NONE(None)</br>TRANSMITTED(None)</td>\n",
       "                        <td id=\"T_acec8e56_b364_11ea_a9d8_1c1bb5c31b58row1_col2\" class=\"data row1 col2\" ><b>1</b></br><b>(1)</b>.border1</br>RECEIVED(GigabitEthernet0/0)</br>NONE(None)</br>FORWARDED(Routes:(Prefix:None,Next Hop Interface:None))</br>NONE(None)</br>TRANSMITTED(GigabitEthernet2/0)</br><b>(2)</b>.core2</br>RECEIVED(GigabitEthernet1/0)</br>NONE(None)</br>FORWARDED(Routes:(Prefix:None,Next Hop Interface:None))</br>NONE(None)</br>TRANSMITTED(null)</td>\n",
       "            </tr>\n",
       "            <tr>\n",
       "                        <th id=\"T_acec8e56_b364_11ea_a9d8_1c1bb5c31b58level0_row2\" class=\"row_heading level0 row2\" >2</th>\n",
       "                        <td id=\"T_acec8e56_b364_11ea_a9d8_1c1bb5c31b58row2_col0\" class=\"data row2 col0\" ><b>src ip</b>:2.129.0.0-255.255.255.255</br><b>dst ip</b>:2.128.1.1-2.128.1.1</br><b>src port</b>:0-65535</br><b>dst port</b>:22-22</br><b>protocol</b>:6-6</br></td>\n",
       "                        <td id=\"T_acec8e56_b364_11ea_a9d8_1c1bb5c31b58row2_col1\" class=\"data row2 col1\" ><b>1</b></br><b>(1)</b>.border2</br>RECEIVED(GigabitEthernet0/0)</br>NONE(None)</br>FORWARDED(Routes:(Prefix:None,Next Hop Interface:None))</br>NONE(None)</br>TRANSMITTED(GigabitEthernet2/0)</br><b>(2)</b>.core1</br>RECEIVED(GigabitEthernet1/0)</br>NONE(None)</br>FORWARDED(Routes:(Prefix:None,Next Hop Interface:None))</br>NONE(None)</br>TRANSMITTED(GigabitEthernet2/0)</br><b>(3)</b>.spine1</br>RECEIVED(GigabitEthernet0/0)</br>NONE(None)</br>FORWARDED(Routes:(Prefix:None,Next Hop Interface:None))</br>NONE(None)</br>TRANSMITTED(GigabitEthernet2/0)</br><b>(4)</b>.leaf1</br>RECEIVED(GigabitEthernet0/0)</br>NONE(None)</br>FORWARDED(Routes:(Prefix:None,Next Hop Interface:None))</br>NONE(None)</br>TRANSMITTED(GigabitEthernet3/0)</br><b>(5)</b>.host-www</br>RECEIVED(eth0)</br>NONE(None)</br>FORWARDED(Routes:(Prefix:None,Next Hop Interface:None))</br>NONE(None)</br>TRANSMITTED(None)</td>\n",
       "                        <td id=\"T_acec8e56_b364_11ea_a9d8_1c1bb5c31b58row2_col2\" class=\"data row2 col2\" ><b>1</b></br><b>(1)</b>.border2</br>RECEIVED(GigabitEthernet0/0)</br>NONE(None)</br>FORWARDED(Routes:(Prefix:None,Next Hop Interface:None))</br>NONE(None)</br>TRANSMITTED(GigabitEthernet1/0)</br><b>(2)</b>.core2</br>RECEIVED(GigabitEthernet0/0)</br>NONE(None)</br>FORWARDED(Routes:(Prefix:None,Next Hop Interface:None))</br>NONE(None)</br>TRANSMITTED(null)</td>\n",
       "            </tr>\n",
       "            <tr>\n",
       "                        <th id=\"T_acec8e56_b364_11ea_a9d8_1c1bb5c31b58level0_row3\" class=\"row_heading level0 row3\" >3</th>\n",
       "                        <td id=\"T_acec8e56_b364_11ea_a9d8_1c1bb5c31b58row3_col0\" class=\"data row3 col0\" ><b>src ip</b>:2.128.0.0-2.128.255.255</br><b>dst ip</b>:2.128.1.1-2.128.1.1</br><b>src port</b>:0-65535</br><b>dst port</b>:0-65535</br><b>protocol</b>:17-17</br></td>\n",
       "                        <td id=\"T_acec8e56_b364_11ea_a9d8_1c1bb5c31b58row3_col1\" class=\"data row3 col1\" ><b>1</b></br><b>(1)</b>.border2</br>RECEIVED(GigabitEthernet0/0)</br>NONE(None)</br>FORWARDED(Routes:(Prefix:None,Next Hop Interface:None))</br>NONE(None)</br>TRANSMITTED(GigabitEthernet2/0)</br><b>(2)</b>.core1</br>RECEIVED(GigabitEthernet1/0)</br>NONE(None)</br>FORWARDED(Routes:(Prefix:None,Next Hop Interface:None))</br>NONE(None)</br>TRANSMITTED(GigabitEthernet2/0)</br><b>(3)</b>.spine1</br>RECEIVED(GigabitEthernet0/0)</br>NONE(None)</br>FORWARDED(Routes:(Prefix:None,Next Hop Interface:None))</br>NONE(None)</br>TRANSMITTED(GigabitEthernet2/0)</br><b>(4)</b>.leaf1</br>RECEIVED(GigabitEthernet0/0)</br>NONE(None)</br>FORWARDED(Routes:(Prefix:None,Next Hop Interface:None))</br>NONE(None)</br>TRANSMITTED(GigabitEthernet3/0)</br><b>(5)</b>.host-www</br>RECEIVED(eth0)</br>NONE(None)</br>FORWARDED(Routes:(Prefix:None,Next Hop Interface:None))</br>NONE(None)</br>TRANSMITTED(None)</td>\n",
       "                        <td id=\"T_acec8e56_b364_11ea_a9d8_1c1bb5c31b58row3_col2\" class=\"data row3 col2\" ><b>1</b></br><b>(1)</b>.border2</br>RECEIVED(GigabitEthernet0/0)</br>NONE(None)</br>FORWARDED(Routes:(Prefix:None,Next Hop Interface:None))</br>NONE(None)</br>TRANSMITTED(GigabitEthernet1/0)</br><b>(2)</b>.core2</br>RECEIVED(GigabitEthernet0/0)</br>NONE(None)</br>FORWARDED(Routes:(Prefix:None,Next Hop Interface:None))</br>NONE(None)</br>TRANSMITTED(null)</td>\n",
       "            </tr>\n",
       "    </tbody></table>"
      ],
      "text/plain": [
       "<IPython.core.display.HTML object>"
      ]
     },
     "metadata": {},
     "output_type": "display_data"
    }
   ],
   "source": [
    "ans2.differentialReachability()"
   ]
  },
  {
   "cell_type": "code",
   "execution_count": null,
   "metadata": {},
   "outputs": [],
   "source": []
  }
 ],
 "metadata": {
  "kernelspec": {
   "display_name": "Python 3",
   "language": "python",
   "name": "python3"
  },
  "language_info": {
   "codemirror_mode": {
    "name": "ipython",
    "version": 3
   },
   "file_extension": ".py",
   "mimetype": "text/x-python",
   "name": "python",
   "nbconvert_exporter": "python",
   "pygments_lexer": "ipython3",
   "version": "3.6.9"
  }
 },
 "nbformat": 4,
 "nbformat_minor": 2
}
